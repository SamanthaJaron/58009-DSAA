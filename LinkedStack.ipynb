{
  "nbformat": 4,
  "nbformat_minor": 0,
  "metadata": {
    "colab": {
      "provenance": [],
      "authorship_tag": "ABX9TyOQDGsz1u7DvzedHlfMSG6B",
      "include_colab_link": true
    },
    "kernelspec": {
      "name": "python3",
      "display_name": "Python 3"
    },
    "language_info": {
      "name": "python"
    }
  },
  "cells": [
    {
      "cell_type": "markdown",
      "metadata": {
        "id": "view-in-github",
        "colab_type": "text"
      },
      "source": [
        "<a href=\"https://colab.research.google.com/github/SamanthaJaron/58009-DSAA/blob/main/LinkedStack.ipynb\" target=\"_parent\"><img src=\"https://colab.research.google.com/assets/colab-badge.svg\" alt=\"Open In Colab\"/></a>"
      ]
    },
    {
      "cell_type": "code",
      "source": [
        "class Stack:\n",
        "  def __init__(self):\n",
        "    self.stack=[]\n",
        "\n",
        "  def add(self,dataval):\n",
        "    if dataval not in self.stack:\n",
        "      self.stack.append(dataval)\n",
        "      return True\n",
        "    else:\n",
        "      return False\n",
        "\n",
        "  def remove(self):\n",
        "    if len(self.stack) <= 0:\n",
        "      return(\"No element in Stack\")\n",
        "    else:\n",
        "      return self.stack.pop()\n",
        "\n",
        "AStack = Stack()\n",
        "AStack.add(\"Mon\")\n",
        "AStack.add(\"Tue\")\n",
        "AStack.add(\"Wed\")\n",
        "AStack.add(\"Thu\")\n",
        "AStack.add(\"Fri\")\n",
        "AStack.add(\"Sat\")\n",
        "AStack.add(\"Thu\")\n",
        "print(AStack.stack)\n",
        "print(AStack.remove())\n",
        "print(AStack.stack)\n",
        "print(AStack.remove())\n",
        "print(AStack.stack)\n",
        "print(AStack.remove())\n",
        "print(AStack.stack)\n",
        "print(AStack.remove())\n",
        "print(AStack.stack)\n",
        "print(AStack.remove())\n",
        "print(AStack.stack)\n",
        "print(AStack.remove())\n",
        "print(AStack.stack)\n",
        "print(AStack.remove())\n",
        "print(AStack.stack)\n",
        "print(AStack.remove())"
      ],
      "metadata": {
        "id": "Sp_9L7Jxrq5v",
        "outputId": "14be8b27-b1d7-41e2-8324-8672d2ad7276",
        "colab": {
          "base_uri": "https://localhost:8080/"
        }
      },
      "execution_count": 9,
      "outputs": [
        {
          "output_type": "stream",
          "name": "stdout",
          "text": [
            "['Mon', 'Tue', 'Wed', 'Thu', 'Fri', 'Sat']\n",
            "Sat\n",
            "['Mon', 'Tue', 'Wed', 'Thu', 'Fri']\n",
            "Fri\n",
            "['Mon', 'Tue', 'Wed', 'Thu']\n",
            "Thu\n",
            "['Mon', 'Tue', 'Wed']\n",
            "Wed\n",
            "['Mon', 'Tue']\n",
            "Tue\n",
            "['Mon']\n",
            "Mon\n",
            "[]\n",
            "No element in Stack\n",
            "[]\n",
            "No element in Stack\n"
          ]
        }
      ]
    }
  ]
}