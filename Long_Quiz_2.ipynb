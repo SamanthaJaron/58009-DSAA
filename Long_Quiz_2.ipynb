{
  "nbformat": 4,
  "nbformat_minor": 0,
  "metadata": {
    "colab": {
      "provenance": [],
      "authorship_tag": "ABX9TyPuXB52IUfL4Noa4VUlkqI1",
      "include_colab_link": true
    },
    "kernelspec": {
      "name": "python3",
      "display_name": "Python 3"
    },
    "language_info": {
      "name": "python"
    }
  },
  "cells": [
    {
      "cell_type": "markdown",
      "metadata": {
        "id": "view-in-github",
        "colab_type": "text"
      },
      "source": [
        "<a href=\"https://colab.research.google.com/github/SamanthaJaron/58009-DSAA/blob/main/Long_Quiz_2.ipynb\" target=\"_parent\"><img src=\"https://colab.research.google.com/assets/colab-badge.svg\" alt=\"Open In Colab\"/></a>"
      ]
    },
    {
      "cell_type": "code",
      "execution_count": 5,
      "metadata": {
        "colab": {
          "base_uri": "https://localhost:8080/"
        },
        "id": "N-UzqZEktypg",
        "outputId": "a6077dca-b7b0-4d36-fb1e-f472e064777f"
      },
      "outputs": [
        {
          "output_type": "stream",
          "name": "stdout",
          "text": [
            "['E', 'F', 'H', 'I', 'J', 'K', 'M', 'P']\n",
            "Vertices: 8\n"
          ]
        }
      ],
      "source": [
        "class graph:\n",
        "  def __init__(self,gdict=None):\n",
        "    if gdict is None:\n",
        "      gdict = []\n",
        "    self.gdict = gdict\n",
        "\n",
        "  def getVertices(self):\n",
        "    return list(self.gdict.keys())\n",
        "\n",
        "graph_elements = {\n",
        "    \"E\" : ['I','M','K','J'],\n",
        "    \"F\" : ['J','K','P','I'],\n",
        "    \"H\" : ['I','J','K'],\n",
        "    \"I\" : ['E','F','H'],\n",
        "    \"J\" : ['E','F','H'],\n",
        "    \"K\" : ['E','H','F'],\n",
        "    \"M\" : ['E'],\n",
        "    \"P\" : ['F']\n",
        "}\n",
        "\n",
        "g = graph(graph_elements)\n",
        "print(g.getVertices())\n",
        "print(\"Vertices:\", len(g.getVertices()))"
      ]
    }
  ]
}