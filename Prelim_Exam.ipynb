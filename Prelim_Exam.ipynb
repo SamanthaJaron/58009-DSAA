{
  "nbformat": 4,
  "nbformat_minor": 0,
  "metadata": {
    "colab": {
      "provenance": [],
      "authorship_tag": "ABX9TyOnU9g9XGUuDTMgk7yww97g",
      "include_colab_link": true
    },
    "kernelspec": {
      "name": "python3",
      "display_name": "Python 3"
    },
    "language_info": {
      "name": "python"
    }
  },
  "cells": [
    {
      "cell_type": "markdown",
      "metadata": {
        "id": "view-in-github",
        "colab_type": "text"
      },
      "source": [
        "<a href=\"https://colab.research.google.com/github/SamanthaJaron/58009-DSAA/blob/main/Prelim_Exam.ipynb\" target=\"_parent\"><img src=\"https://colab.research.google.com/assets/colab-badge.svg\" alt=\"Open In Colab\"/></a>"
      ]
    },
    {
      "cell_type": "code",
      "execution_count": 7,
      "metadata": {
        "id": "TawI-sJtatae",
        "outputId": "1f58126d-c915-449d-d6a2-e4c544d0b6b4",
        "colab": {
          "base_uri": "https://localhost:8080/"
        }
      },
      "outputs": [
        {
          "output_type": "stream",
          "name": "stdout",
          "text": [
            "total score of your test: 397\n",
            "your test scores: [26, 49, 62, 75, 87, 98]\n"
          ]
        }
      ],
      "source": [
        "testscore = [26, 49, 98, 87, 62, 75]\n",
        "\n",
        "add_testscore = sum(testscore)\n",
        "\n",
        "sorted_testscore = sorted(testscore)\n",
        "\n",
        "# This is the sum/adding of all the scores\n",
        "print(\"total score of your test:\", add_testscore)\n",
        "\n",
        "# This is the accending order of the scores\n",
        "print(\"your test scores:\", sorted_testscore)"
      ]
    }
  ]
}