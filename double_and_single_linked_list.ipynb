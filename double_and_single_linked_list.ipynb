{
  "nbformat": 4,
  "nbformat_minor": 0,
  "metadata": {
    "colab": {
      "provenance": [],
      "authorship_tag": "ABX9TyO5GlLqjAdLziQUGL+Nn1Zi",
      "include_colab_link": true
    },
    "kernelspec": {
      "name": "python3",
      "display_name": "Python 3"
    },
    "language_info": {
      "name": "python"
    }
  },
  "cells": [
    {
      "cell_type": "markdown",
      "metadata": {
        "id": "view-in-github",
        "colab_type": "text"
      },
      "source": [
        "<a href=\"https://colab.research.google.com/github/SamanthaJaron/58009-DSAA/blob/main/double_and_single_linked_list.ipynb\" target=\"_parent\"><img src=\"https://colab.research.google.com/assets/colab-badge.svg\" alt=\"Open In Colab\"/></a>"
      ]
    },
    {
      "cell_type": "code",
      "execution_count": 1,
      "metadata": {
        "id": "TawI-sJtatae",
        "outputId": "d0cdaf2d-bf1e-4ee0-b66c-0f61a99599c5",
        "colab": {
          "base_uri": "https://localhost:8080/",
          "height": 35
        }
      },
      "outputs": [
        {
          "output_type": "execute_result",
          "data": {
            "text/plain": [
              "'f'"
            ],
            "application/vnd.google.colaboratory.intrinsic+json": {
              "type": "string"
            }
          },
          "metadata": {},
          "execution_count": 1
        }
      ],
      "source": [
        "import array\n",
        "array.typecodes\n",
        "a = array.array('i',[1,2,3,4,5,6])\n",
        "b = array.array('f',[1.5,2.5,3.5,4.5,5.5,6.6])\n",
        "a.typecode\n",
        "b.typecode"
      ]
    },
    {
      "cell_type": "code",
      "source": [
        "import array\n",
        "array.typecodes\n",
        "a = array.array('i',[1,2,3,4,5,6])\n",
        "b = str('f')\n",
        "\n",
        "a.typecode\n",
        "print(a)\n",
        "a = array.array(b, [1,2,3,4,5,6])\n",
        "\n",
        "a.typecode\n",
        "print(a)"
      ],
      "metadata": {
        "colab": {
          "base_uri": "https://localhost:8080/"
        },
        "id": "PJyN54NayAc6",
        "outputId": "0120681b-c79e-44f4-95df-08bcd0a02822"
      },
      "execution_count": 8,
      "outputs": [
        {
          "output_type": "stream",
          "name": "stdout",
          "text": [
            "array('i', [1, 2, 3, 4, 5, 6])\n",
            "array('f', [1.0, 2.0, 3.0, 4.0, 5.0, 6.0])\n"
          ]
        }
      ]
    },
    {
      "cell_type": "code",
      "source": [
        "from array import array\n",
        "a = array('i',[4,5,6,7])\n",
        "a.insert(1,2)\n",
        "a\n",
        "array('i',[4,2,5,6,7])\n",
        "a.insert(-1,0)\n",
        "a\n",
        "a.insert(10,-1)\n",
        "a\n",
        "array('i',[4,2,5,6,0,7,-1])"
      ],
      "metadata": {
        "colab": {
          "base_uri": "https://localhost:8080/"
        },
        "id": "VTd5thcI0zoC",
        "outputId": "f6ebec98-927f-44aa-e46e-684cd5c2bafd"
      },
      "execution_count": 10,
      "outputs": [
        {
          "output_type": "execute_result",
          "data": {
            "text/plain": [
              "array('i', [4, 2, 5, 6, 0, 7, -1])"
            ]
          },
          "metadata": {},
          "execution_count": 10
        }
      ]
    },
    {
      "cell_type": "code",
      "source": [
        "from typing_extensions import dataclass_transform\n",
        "class Node:\n",
        "\n",
        "  def __init__(self, data):\n",
        "    self.data = data\n",
        "    self.next = None\n",
        "\n",
        "class LinkedList:\n",
        "\n",
        "  def __init(self):\n",
        "    self.head = None\n",
        "\n",
        "  def printlist(self):\n",
        "    temp = self.head\n",
        "    while(temp):\n",
        "      print(temp.data)\n",
        "      temp = temp.next\n",
        "\n",
        "if __name__=='__main__':\n",
        "\n",
        "  llist = LinkedList()\n",
        "\n",
        "  llist.head = Node(1)\n",
        "  second = Node(2)\n",
        "  third = Node(3)\n",
        "\n",
        "  llist.head.next = second;\n",
        "\n",
        "  second.next = third;\n",
        "\n",
        "  llist.printlist()"
      ],
      "metadata": {
        "colab": {
          "base_uri": "https://localhost:8080/"
        },
        "id": "OJXIIjNF008J",
        "outputId": "a4d0c152-1c9c-47a9-bbad-cedd2244a533"
      },
      "execution_count": 6,
      "outputs": [
        {
          "output_type": "stream",
          "name": "stdout",
          "text": [
            "1\n",
            "2\n",
            "3\n"
          ]
        }
      ]
    },
    {
      "cell_type": "code",
      "source": [
        "class Node:\n",
        "\n",
        "  def __init__(self, data):\n",
        "    self.data = data\n",
        "    self.next = None\n",
        "\n",
        "class LinkedList:\n",
        "\n",
        "  def __init__(self):\n",
        "    self.head = None\n",
        "\n",
        "  def printlist(self):\n",
        "    temp = self.head\n",
        "    while(temp):\n",
        "      print(temp.data)\n",
        "      temp = temp.next\n",
        "    prev = None\n",
        "    while temp:\n",
        "      next_node = temp.next\n",
        "      temp.next = prev\n",
        "      prev = temp\n",
        "      temp = next_node\n",
        "    self.head = prev\n",
        "\n",
        "    if __name__=='__main__':\n",
        "\n",
        "      llist = LinkedList()\n",
        "\n",
        "      llist.head = Node(1)\n",
        "      second = Node(2)\n",
        "      third = Node(3)\n",
        "\n",
        "      llist.head.next = second;\n",
        "      second.next = third;\n",
        "\n",
        "      llist.printlist()\n",
        "\n",
        "      llist.head = Node(2)\n",
        "      second = Node(1)\n",
        "\n",
        "      llist.head.next = second;\n",
        "\n",
        "      llist.printlist()\n",
        "      llist.printReverse()"
      ],
      "metadata": {
        "id": "doUVFPOE5OYC"
      },
      "execution_count": 29,
      "outputs": []
    },
    {
      "cell_type": "code",
      "source": [
        "class Node:\n",
        "  def __init__(self, data):\n",
        "    self.data = data\n",
        "    self.next = None\n",
        "    self.previous = None\n",
        "\n",
        "class LinkedList:\n",
        "  def __init__(self):\n",
        "    self.head = None\n",
        "    self.tail = None\n",
        "\n",
        "  def printList(self):\n",
        "    temp = self.head\n",
        "    while(temp):\n",
        "      print(temp.data)\n",
        "      temp = temp.next\n",
        "\n",
        "  def printReverse(self):\n",
        "    temp = self.tail\n",
        "    while(temp):\n",
        "      print(temp.data)\n",
        "      temp = temp.previous\n",
        "\n",
        "      if _name_ == '_main_':\n",
        "        llist = LinkedList()\n",
        "\n",
        "        llist.head = Node(1)\n",
        "        second = Node(2)\n",
        "        third = Node(3)\n",
        "        fourth = Node(4)\n",
        "        llist.tail = Node(5)\n",
        "\n",
        "        llist.head.next = second;\n",
        "        second.next = third;\n",
        "        third.next = fourth;\n",
        "        fourth.next = llist.tail;\n",
        "\n",
        "        llist.tail.previous = fourth;\n",
        "        fourth.previous = third;\n",
        "        third.previous = second;\n",
        "        second.previous = llist.head;\n",
        "\n",
        "        llist.printList()\n",
        "        llist.printReverse()"
      ],
      "metadata": {
        "id": "gFgYKWqSFZou"
      },
      "execution_count": 31,
      "outputs": []
    }
  ]
}