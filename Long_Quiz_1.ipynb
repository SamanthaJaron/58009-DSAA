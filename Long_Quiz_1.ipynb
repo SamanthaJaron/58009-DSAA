{
  "nbformat": 4,
  "nbformat_minor": 0,
  "metadata": {
    "colab": {
      "provenance": [],
      "authorship_tag": "ABX9TyPViMFwt6n3sKKka8UPv35g",
      "include_colab_link": true
    },
    "kernelspec": {
      "name": "python3",
      "display_name": "Python 3"
    },
    "language_info": {
      "name": "python"
    }
  },
  "cells": [
    {
      "cell_type": "markdown",
      "metadata": {
        "id": "view-in-github",
        "colab_type": "text"
      },
      "source": [
        "<a href=\"https://colab.research.google.com/github/SamanthaJaron/58009-DSAA/blob/main/Long_Quiz_1.ipynb\" target=\"_parent\"><img src=\"https://colab.research.google.com/assets/colab-badge.svg\" alt=\"Open In Colab\"/></a>"
      ]
    },
    {
      "cell_type": "code",
      "source": [
        "sam_name = \"Carla Samantha Jaron\"\n",
        "\n",
        "reversed_characters = []\n",
        "\n",
        "print(\"My Full name:\",sam_name)\n",
        "\n",
        "for char in reversed(sam_name):\n",
        "    reversed_characters.append(char)\n",
        "\n",
        "print(\"My Reversed Full name: \", end='')\n",
        "\n",
        "for char in reversed_characters:\n",
        "    print(char, end='')\n"
      ],
      "metadata": {
        "id": "Sp_9L7Jxrq5v",
        "colab": {
          "base_uri": "https://localhost:8080/"
        },
        "outputId": "8b3ac90e-8577-4dcb-8490-2a98d8d1a21d"
      },
      "execution_count": 25,
      "outputs": [
        {
          "output_type": "stream",
          "name": "stdout",
          "text": [
            "My Full name: Carla Samantha Jaron\n",
            "My Reversed Full name: noraJ ahtnamaS alraC"
          ]
        }
      ]
    },
    {
      "cell_type": "code",
      "source": [
        "numbers = \"1 2 3 4 5 6 7 8 9 10\"\n",
        "\n",
        "print(\"Numbers:\",numbers)\n",
        "\n",
        "composite = []\n",
        "prime = []\n",
        "\n",
        "for nums in range ( 2, 11 ):\n",
        "  for num in range ( 2, nums ):\n",
        "    if ( nums % num == 0 ):\n",
        "      composite.append(nums)\n",
        "      break\n",
        "  else:\n",
        "    prime.append(nums)\n",
        "\n",
        "print(\"Here are the prime numbers according to the given: \", end='')\n",
        "for num in prime:\n",
        "  print(num, end=' ')\n",
        "\n",
        "print(\"\\nHere are the composite numbers according to the given: \", end='')\n",
        "for num in composite:\n",
        "  print(num, end=' ')"
      ],
      "metadata": {
        "colab": {
          "base_uri": "https://localhost:8080/"
        },
        "id": "zgjBMCgh_chv",
        "outputId": "5e06acc7-71f2-4933-e36e-2ade7b99f59f"
      },
      "execution_count": 67,
      "outputs": [
        {
          "output_type": "stream",
          "name": "stdout",
          "text": [
            "Numbers: 1 2 3 4 5 6 7 8 9 10\n",
            "Here are the prime numbers according to the given: 2 3 5 7 \n",
            "Here are the composite numbers according to the given: 4 6 8 9 10 "
          ]
        }
      ]
    }
  ]
}