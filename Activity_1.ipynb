{
  "nbformat": 4,
  "nbformat_minor": 0,
  "metadata": {
    "colab": {
      "provenance": [],
      "authorship_tag": "ABX9TyOhTsOGkj46ApaLrrrBOzM/",
      "include_colab_link": true
    },
    "kernelspec": {
      "name": "python3",
      "display_name": "Python 3"
    },
    "language_info": {
      "name": "python"
    }
  },
  "cells": [
    {
      "cell_type": "markdown",
      "metadata": {
        "id": "view-in-github",
        "colab_type": "text"
      },
      "source": [
        "<a href=\"https://colab.research.google.com/github/SamanthaJaron/58009-DSAA/blob/main/Activity_1.ipynb\" target=\"_parent\"><img src=\"https://colab.research.google.com/assets/colab-badge.svg\" alt=\"Open In Colab\"/></a>"
      ]
    },
    {
      "cell_type": "code",
      "execution_count": 45,
      "metadata": {
        "id": "TawI-sJtatae",
        "outputId": "8162e754-db44-40d1-ff88-ece7cbad56a2",
        "colab": {
          "base_uri": "https://localhost:8080/"
        }
      },
      "outputs": [
        {
          "output_type": "stream",
          "name": "stdout",
          "text": [
            "1\n",
            "2\n",
            "3\n",
            "4\n",
            "5\n",
            "6\n",
            "7\n",
            "8\n",
            "9\n",
            "10\n",
            "Sum: 55\n"
          ]
        }
      ],
      "source": [
        "integer = [1,2,3,4,5,6,7,8,9,10]\n",
        "for x in integer:\n",
        "  print(x)\n",
        "\n",
        "integer = [1,2,3,4,5,6,7,8,9,10]\n",
        "total = 0\n",
        "\n",
        "for x in integer:\n",
        "  if x >= 0:\n",
        "    total += x\n",
        "\n",
        "print('Sum:',total)"
      ]
    },
    {
      "cell_type": "code",
      "source": [
        "integer = [1,2,3,4,5,6,7,8,9,10]\n",
        "integer.append('11')\n",
        "print(integer)"
      ],
      "metadata": {
        "colab": {
          "base_uri": "https://localhost:8080/"
        },
        "id": "RA4vYvBfXBU_",
        "outputId": "013c6827-64e6-4f30-803e-e3a4b3fa8b3c"
      },
      "execution_count": 46,
      "outputs": [
        {
          "output_type": "stream",
          "name": "stdout",
          "text": [
            "[1, 2, 3, 4, 5, 6, 7, 8, 9, 10, '11']\n"
          ]
        }
      ]
    },
    {
      "cell_type": "code",
      "source": [
        "integer = [1,2,3,4,5,6,7,8,9,10]\n",
        "integer.insert(9,'9.5')\n",
        "print(integer)"
      ],
      "metadata": {
        "colab": {
          "base_uri": "https://localhost:8080/"
        },
        "id": "9EJGMWntXJdO",
        "outputId": "d9dc5635-2122-483c-9143-7b7e1978a710"
      },
      "execution_count": 49,
      "outputs": [
        {
          "output_type": "stream",
          "name": "stdout",
          "text": [
            "[1, 2, 3, 4, 5, 6, 7, 8, 9, '9.5', 10]\n"
          ]
        }
      ]
    },
    {
      "cell_type": "code",
      "source": [
        "integer = [5,4,3,2,1]\n",
        "integer.reverse()\n",
        "print(integer)"
      ],
      "metadata": {
        "colab": {
          "base_uri": "https://localhost:8080/"
        },
        "id": "N5RfHEHbXQhe",
        "outputId": "6cebdad8-0fec-43e9-c60f-b856557e0b30"
      },
      "execution_count": 50,
      "outputs": [
        {
          "output_type": "stream",
          "name": "stdout",
          "text": [
            "[1, 2, 3, 4, 5]\n"
          ]
        }
      ]
    },
    {
      "cell_type": "code",
      "source": [
        "integer = [5,4,3,2,1]\n",
        "x = len(integer)\n",
        "print(x)"
      ],
      "metadata": {
        "colab": {
          "base_uri": "https://localhost:8080/"
        },
        "id": "h5_b6w0GXZS-",
        "outputId": "2b58cc9e-3e7e-44fb-efa5-a8ae2f5bb651"
      },
      "execution_count": 52,
      "outputs": [
        {
          "output_type": "stream",
          "name": "stdout",
          "text": [
            "5\n"
          ]
        }
      ]
    }
  ]
}