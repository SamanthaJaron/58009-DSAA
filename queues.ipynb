{
  "nbformat": 4,
  "nbformat_minor": 0,
  "metadata": {
    "colab": {
      "provenance": [],
      "authorship_tag": "ABX9TyMu234b0g52bnr2vHGALvyF",
      "include_colab_link": true
    },
    "kernelspec": {
      "name": "python3",
      "display_name": "Python 3"
    },
    "language_info": {
      "name": "python"
    }
  },
  "cells": [
    {
      "cell_type": "markdown",
      "metadata": {
        "id": "view-in-github",
        "colab_type": "text"
      },
      "source": [
        "<a href=\"https://colab.research.google.com/github/SamanthaJaron/58009-DSAA/blob/main/queues.ipynb\" target=\"_parent\"><img src=\"https://colab.research.google.com/assets/colab-badge.svg\" alt=\"Open In Colab\"/></a>"
      ]
    },
    {
      "cell_type": "code",
      "execution_count": 1,
      "metadata": {
        "colab": {
          "base_uri": "https://localhost:8080/"
        },
        "id": "5EEF4f2ls7NS",
        "outputId": "a6ea1de8-e59a-433f-ce5a-3afe298b778e"
      },
      "outputs": [
        {
          "output_type": "stream",
          "name": "stdout",
          "text": [
            "['A', 'B', 'C']\n",
            "A\n",
            "B\n",
            "C\n",
            "[]\n"
          ]
        }
      ],
      "source": [
        "queue = []\n",
        "\n",
        "queue.append(\"A\")\n",
        "queue.append(\"B\")\n",
        "queue.append(\"C\")\n",
        "print(queue)\n",
        "\n",
        "print(queue.pop(0))\n",
        "print(queue.pop(0))\n",
        "print(queue.pop(0))\n",
        "print(queue)"
      ]
    },
    {
      "cell_type": "code",
      "source": [
        "queue = []\n",
        "\n",
        "while True:\n",
        "    print(\"~~~~~~~~~~~~~~~~~~~~~~~~~~~~~~~\")\n",
        "    print(\"WELCOME TO QUEUE ADDER!!!\")\n",
        "    print(\"Options:\")\n",
        "    print(\"(1) - To Add to the Queue\")\n",
        "    print(\"(2) - To Print the Queue\")\n",
        "    print(\"(3) - To Exit the Application\")\n",
        "    print(\"~~~~~~~~~~~~~~~~~~~~~~~~~~~~~~~\")\n",
        "\n",
        "    choice = input(\"Enter your choice: \")\n",
        "\n",
        "    if choice == \"1\":\n",
        "        item = input(\"Enter an item to enqueue: \")\n",
        "        queue.append(item)\n",
        "        print(f\"'{item}' has been enqueued.\")\n",
        "    elif choice == \"2\":\n",
        "        if queue:\n",
        "            print(\"Current Queue:\", queue)\n",
        "        else:\n",
        "            print(\"Queue is empty.\")\n",
        "    elif choice == \"3\":\n",
        "        print(\"Exiting the program.\")\n",
        "        break\n",
        "    else:\n",
        "        print(\"Invalid choice. Please enter a valid option.\")\n"
      ],
      "metadata": {
        "colab": {
          "base_uri": "https://localhost:8080/"
        },
        "id": "qu94DxYCtFiy",
        "outputId": "9778b00a-8372-491b-d47e-50a7ba546a69"
      },
      "execution_count": 6,
      "outputs": [
        {
          "output_type": "stream",
          "name": "stdout",
          "text": [
            "~~~~~~~~~~~~~~~~~~~~~~~~~~~~~~~\n",
            "WELCOME TO QUEUE ADDER!!!\n",
            "Options:\n",
            "(1) - To Add to the Queue\n",
            "(2) - To Print the Queue\n",
            "(3) - To Exit the Application\n",
            "~~~~~~~~~~~~~~~~~~~~~~~~~~~~~~~\n",
            "Enter your choice: 1\n",
            "Enter an item to enqueue: SAM\n",
            "'SAM' has been enqueued.\n",
            "~~~~~~~~~~~~~~~~~~~~~~~~~~~~~~~\n",
            "WELCOME TO QUEUE ADDER!!!\n",
            "Options:\n",
            "(1) - To Add to the Queue\n",
            "(2) - To Print the Queue\n",
            "(3) - To Exit the Application\n",
            "~~~~~~~~~~~~~~~~~~~~~~~~~~~~~~~\n",
            "Enter your choice: 1\n",
            "Enter an item to enqueue: JARON\n",
            "'JARON' has been enqueued.\n",
            "~~~~~~~~~~~~~~~~~~~~~~~~~~~~~~~\n",
            "WELCOME TO QUEUE ADDER!!!\n",
            "Options:\n",
            "(1) - To Add to the Queue\n",
            "(2) - To Print the Queue\n",
            "(3) - To Exit the Application\n",
            "~~~~~~~~~~~~~~~~~~~~~~~~~~~~~~~\n",
            "Enter your choice: 2\n",
            "Current Queue: ['SAM', 'JARON']\n",
            "~~~~~~~~~~~~~~~~~~~~~~~~~~~~~~~\n",
            "WELCOME TO QUEUE ADDER!!!\n",
            "Options:\n",
            "(1) - To Add to the Queue\n",
            "(2) - To Print the Queue\n",
            "(3) - To Exit the Application\n",
            "~~~~~~~~~~~~~~~~~~~~~~~~~~~~~~~\n",
            "Enter your choice: 3\n",
            "Exiting the program.\n"
          ]
        }
      ]
    }
  ]
}