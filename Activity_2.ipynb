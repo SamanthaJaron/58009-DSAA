{
  "nbformat": 4,
  "nbformat_minor": 0,
  "metadata": {
    "colab": {
      "provenance": [],
      "authorship_tag": "ABX9TyPj4RA1cC4jUhM/eZJNMi2X",
      "include_colab_link": true
    },
    "kernelspec": {
      "name": "python3",
      "display_name": "Python 3"
    },
    "language_info": {
      "name": "python"
    }
  },
  "cells": [
    {
      "cell_type": "markdown",
      "metadata": {
        "id": "view-in-github",
        "colab_type": "text"
      },
      "source": [
        "<a href=\"https://colab.research.google.com/github/SamanthaJaron/58009-DSAA/blob/main/Activity_2.ipynb\" target=\"_parent\"><img src=\"https://colab.research.google.com/assets/colab-badge.svg\" alt=\"Open In Colab\"/></a>"
      ]
    },
    {
      "cell_type": "code",
      "source": [
        "class Node:\n",
        "    def __init__(self, data):\n",
        "        self.data = data\n",
        "        self.next = None\n",
        "\n",
        "class LinkedList:\n",
        "    def __init__(self):\n",
        "        self.head = None\n",
        "        self.tail = None\n",
        "\n",
        "    def append(self, data):\n",
        "        new_node = Node(data)\n",
        "        if self.head is None:\n",
        "            self.head = new_node\n",
        "            self.tail = new_node\n",
        "        else:\n",
        "            self.tail.next = new_node\n",
        "            self.tail = new_node\n",
        "\n",
        "    def printlist(self):\n",
        "        temp = self.head\n",
        "        while temp:\n",
        "            print(temp.data, end=\" -> \")\n",
        "            temp = temp.next\n",
        "        print(\"None\")\n",
        "        if self.head:\n",
        "            print(\"The Head of the List:\", self.head.data)\n",
        "        if self.tail:\n",
        "            print(\"The List of the List:\", self.tail.data)\n",
        "\n",
        "def generate_prime_numbers(limit):\n",
        "    prime = []\n",
        "    for n in range(2, limit + 1):\n",
        "        for i in range(2, n):\n",
        "            if n % i == 0:\n",
        "                break\n",
        "        else:\n",
        "            prime.append(n)\n",
        "    return prime\n",
        "\n",
        "if __name__ == '__main__':\n",
        "    prime_list = generate_prime_numbers(20)\n",
        "\n",
        "    linked_list = LinkedList()\n",
        "\n",
        "    if prime_list:\n",
        "        linked_list.append(prime_list[0])\n",
        "\n",
        "    for i in range(1, len(prime_list)):\n",
        "        linked_list.append(prime_list[i])\n",
        "\n",
        "    linked_list.printlist()\n"
      ],
      "metadata": {
        "colab": {
          "base_uri": "https://localhost:8080/"
        },
        "id": "cL9CTjC_pOx4",
        "outputId": "9dbdedbe-05b8-4c94-cef1-818faa798fcd"
      },
      "execution_count": 22,
      "outputs": [
        {
          "output_type": "stream",
          "name": "stdout",
          "text": [
            "2 -> 3 -> 5 -> 7 -> 11 -> 13 -> 17 -> 19 -> None\n",
            "The Head of the List: 2\n",
            "The List of the List: 19\n"
          ]
        }
      ]
    }
  ]
}