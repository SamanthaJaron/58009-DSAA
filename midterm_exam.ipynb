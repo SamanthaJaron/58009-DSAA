{
  "nbformat": 4,
  "nbformat_minor": 0,
  "metadata": {
    "colab": {
      "provenance": [],
      "authorship_tag": "ABX9TyOY1qNN1603RJXejOgu86wJ",
      "include_colab_link": true
    },
    "kernelspec": {
      "name": "python3",
      "display_name": "Python 3"
    },
    "language_info": {
      "name": "python"
    }
  },
  "cells": [
    {
      "cell_type": "markdown",
      "metadata": {
        "id": "view-in-github",
        "colab_type": "text"
      },
      "source": [
        "<a href=\"https://colab.research.google.com/github/SamanthaJaron/58009-DSAA/blob/main/midterm_exam.ipynb\" target=\"_parent\"><img src=\"https://colab.research.google.com/assets/colab-badge.svg\" alt=\"Open In Colab\"/></a>"
      ]
    },
    {
      "cell_type": "code",
      "source": [
        "class graph:\n",
        "  def __init__(self,gdict=None):\n",
        "    if gdict is None:\n",
        "      gdict = []\n",
        "    self.gdict = gdict\n",
        "\n",
        "  def edges(self):\n",
        "    return self.Edges()\n",
        "\n",
        "  def Edges(self):\n",
        "    edgename = []\n",
        "    for v in self.gdict:\n",
        "      for nv in self.gdict[v]:\n",
        "        if {nv, v} not in edgename:\n",
        "          edgename.append({v, nv})\n",
        "    return edgename\n",
        "\n",
        "  def getvertices(self):\n",
        "    return list(self.gdict.keys())\n",
        "\n",
        "elements = {\n",
        "    \"A\" : ['B'],\n",
        "    \"B\" : ['A','E','F','C'],\n",
        "    \"C\" : ['B','E','F','D','M','I'],\n",
        "    \"D\" : ['C','L','K'],\n",
        "    \"E\" : ['B','C','N'],\n",
        "    \"F\" : ['B','C','G','I'],\n",
        "    \"G\" : ['F','I','J'],\n",
        "    \"I\" : ['F','G','J','K','C'],\n",
        "    \"J\" : ['G','I','K'],\n",
        "    \"K\" : ['D','I','J'],\n",
        "    \"L\" : ['P','M','D'],\n",
        "    \"M\" : ['N','O','P','L','C'],\n",
        "    \"N\" : ['O','M','E'],\n",
        "    \"O\" : ['N','M','P'],\n",
        "    \"P\" : ['O','M','L']\n",
        "}\n",
        "\n",
        "g = graph(elements)\n",
        "print(\"Vertices:\", g.getvertices())\n",
        "print(\"Edges:\", g.edges())"
      ],
      "metadata": {
        "colab": {
          "base_uri": "https://localhost:8080/"
        },
        "id": "efA3tC72ZNhd",
        "outputId": "cb5c6cfe-63d4-4ea2-fd4c-9cee74b778b3"
      },
      "execution_count": 23,
      "outputs": [
        {
          "output_type": "stream",
          "name": "stdout",
          "text": [
            "Vertices: ['A', 'B', 'C', 'D', 'E', 'F', 'G', 'I', 'J', 'K', 'L', 'M', 'N', 'O', 'P']\n",
            "Edges: [{'B', 'A'}, {'E', 'B'}, {'F', 'B'}, {'B', 'C'}, {'E', 'C'}, {'F', 'C'}, {'C', 'D'}, {'M', 'C'}, {'C', 'I'}, {'D', 'L'}, {'K', 'D'}, {'E', 'N'}, {'F', 'G'}, {'F', 'I'}, {'I', 'G'}, {'G', 'J'}, {'I', 'J'}, {'K', 'I'}, {'K', 'J'}, {'P', 'L'}, {'M', 'L'}, {'M', 'N'}, {'M', 'O'}, {'M', 'P'}, {'N', 'O'}, {'O', 'P'}]\n"
          ]
        }
      ]
    }
  ]
}